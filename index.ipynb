{
 "cells": [
  {
   "cell_type": "markdown",
   "metadata": {},
   "source": [
    "# Titanic Survival Analysis\n",
    "- The Titanic dataset is a well-known dataset used for classification tasks, particularly for predicting survival outcomes. It contains information on passengers aboard the Titanic when it sank in 1912.\n",
    "### Dataset Columns\n",
    "- The Titanic dataset typically includes the following columns:\n",
    "1. PassengerId – Unique identifier for each passenger\n",
    "2. Survived – Survival status (0 = No, 1 = Yes)\n",
    "3. Pclass – Ticket class (1 = First, 2 = Second, 3 = Third)\n",
    "4. Name – Passenger’s full name\n",
    "5. Sex – Gender (male/female)\n",
    "6. Age – Age of the passenger\n",
    "7. SibSp – Number of siblings/spouses aboard\n",
    "8. Parch – Number of parents/children aboard\n",
    "9. Ticket – Ticket number\n",
    "10. Fare – Passenger fare\n",
    "11. Cabin – Cabin number (often missing)\n",
    "12. Embarked – Port of embarkation (C = Cherbourg, Q = Queenstown, S = Southampton)\n",
    "\n",
    "## Data Preprocessing and Cleaning"
   ]
  },
  {
   "cell_type": "code",
   "execution_count": 2,
   "metadata": {},
   "outputs": [],
   "source": [
    "import os\n",
    "import mysql.connector  # Use pymysql or psycopg2 for PostgreSQL\n",
    "from dotenv import load_dotenv"
   ]
  },
  {
   "cell_type": "code",
   "execution_count": null,
   "metadata": {},
   "outputs": [
    {
     "name": "stdout",
     "output_type": "stream",
     "text": [
      "Error: int() argument must be a string, a bytes-like object or a real number, not 'NoneType'\n"
     ]
    }
   ],
   "source": [
    "# Load environment variables from .env file\n",
    "load_dotenv()\n",
    "\n",
    "# Fetch credentials\n",
    "DB_HOST = os.getenv(\"DB_HOST\")\n",
    "DB_USER = os.getenv(\"DB_USER\")\n",
    "DB_PASSWORD = os.getenv(\"DB_PASSWORD\")\n",
    "DB_NAME = os.getenv(\"DB_NAME\")\n",
    "DB_PORT = os.getenv(\"DB_PORT\")\n",
    "\n",
    "# Connect to MySQL Database\n",
    "try:\n",
    "    conn = mysql.connector.connect(\n",
    "        host=DB_HOST,\n",
    "        user=DB_USER,\n",
    "        password=DB_PASSWORD,\n",
    "        database=DB_NAME,\n",
    "        port=int(DB_PORT)\n",
    "    )\n",
    "    cursor = conn.cursor()\n",
    "\n",
    "    # Execute SQL Query\n",
    "    cursor.execute(\"SELECT * FROM titanicdata LIMIT 10;\")  # Adjust table name\n",
    "    rows = cursor.fetchall()\n",
    "\n",
    "    # Print fetched data\n",
    "    for row in rows:\n",
    "        print(row)\n",
    "\n",
    "    # Close connections\n",
    "    cursor.close()\n",
    "    conn.close()\n",
    "\n",
    "except Exception as e:\n",
    "    print(f\"Error: {e}\")"
   ]
  },
  {
   "cell_type": "code",
   "execution_count": null,
   "metadata": {},
   "outputs": [],
   "source": []
  }
 ],
 "metadata": {
  "kernelspec": {
   "display_name": "Python 3",
   "language": "python",
   "name": "python3"
  },
  "language_info": {
   "codemirror_mode": {
    "name": "ipython",
    "version": 3
   },
   "file_extension": ".py",
   "mimetype": "text/x-python",
   "name": "python",
   "nbconvert_exporter": "python",
   "pygments_lexer": "ipython3",
   "version": "3.13.0"
  }
 },
 "nbformat": 4,
 "nbformat_minor": 2
}
